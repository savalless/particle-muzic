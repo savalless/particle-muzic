{
 "cells": [
  {
   "cell_type": "code",
   "execution_count": 1,
   "metadata": {},
   "outputs": [],
   "source": [
    "%load_ext autoreload\n",
    "%autoreload 2"
   ]
  },
  {
   "cell_type": "code",
   "execution_count": 2,
   "metadata": {},
   "outputs": [],
   "source": [
    "import sys, math\n",
    "python_path = 'C:\\Users\\Santi\\Documents\\GitHub\\particle-muzic\\python'\n",
    "sys.path.append(python_path)\n",
    "\n",
    "from phenomena.phenomena_client import Phenomena\n",
    "from phenomena.connection.phenomena_server import PhenomenaServer\n",
    "from phenomena.nodes.node_controller import NodeController"
   ]
  },
  {
   "cell_type": "code",
   "execution_count": 14,
   "metadata": {},
   "outputs": [],
   "source": [
    "server = PhenomenaServer()\n",
    "server.startServer()"
   ]
  },
  {
   "cell_type": "code",
   "execution_count": 15,
   "metadata": {},
   "outputs": [
    {
     "name": "stdout",
     "output_type": "stream",
     "text": [
      "{u'MODULE_PATH': u'node', u'COMMAND_ID': 7, u'PARAMS': {u'particle_name': u'rho+', u'E': None, u'theta': 1.5707963267948966, u'p': 2}, u'COMMAND_NAME': u'ADD'}\n",
      "THIS:  rho+ <type 'unicode'>\n",
      "211\n",
      "111\n",
      "1.57079632679\n",
      "Accumulating particle: rho+\n",
      "Wait for:  2.40621668435\n",
      "OK ! Outcoming message: type: 1 id 7 Name: ADD Module Path: node\n",
      "particle: rho+ Will transform in:  -13\n",
      "14\n",
      "22\n",
      "22\n",
      " New particles: \n",
      "pi+ 0.899929244181 1.1628805569\n",
      "pi0 1.22699380603 1.86602053697\n",
      "Accumulating particle: pi+\n",
      "Wait for:  2.44475143529\n",
      "Accumulating particle: pi0\n",
      "Wait for:  2.28852669196\n",
      "removing:  rho+\n",
      "Values inside:  2\n",
      "particle: pi0 Will transform in:   New particles: \n",
      "gamma 1.18620209838 1.8447466575\n",
      "gamma 0.0481938674357 2.41706496285\n",
      "Accumulating particle: gamma\n",
      "Wait for:  10\n",
      "Accumulating particle: gamma\n",
      "Wait for:  10\n",
      "removing:  pi0\n",
      "Values inside:  3\n",
      "particle: pi+ Will transform in:  12\n",
      "-11\n",
      "-14\n",
      " New particles: \n",
      "mu+ 0.542342069672 1.19159131175\n",
      "nu_mu 0.35814924131 1.11939639769\n",
      "Accumulating particle: mu+\n",
      "Wait for:  2.81033420785\n",
      "Accumulating particle: nu_mu\n",
      "Wait for:  10\n",
      "removing:  pi+\n",
      "Values inside:  4\n",
      "particle: mu+ Will transform in:   New particles: \n",
      "nu_mubar 0.324884470323 1.31661675176\n",
      "{'realmass': '80.38500', 'mass': 0.042284510067988806, 'name': 'W+', 'channel': 3, 'decay': ['nu_e', 'e+']} 0.22369274518 1.00947589352\n",
      "Accumulating particle: nu_mubar\n",
      "Wait for:  10\n",
      "Accumulating particle: W+\n",
      "Wait for:  2.39828848959\n",
      "removing:  mu+\n",
      "Values inside:  5\n",
      "particle: W+ Will transform in:   New particles: \n",
      "nu_e 0.0192595446316 1.63572501762\n",
      "e+ 0.208394005274 0.955281745713\n",
      "Accumulating particle: nu_e\n",
      "Wait for:  10\n",
      "Accumulating particle: e+\n",
      "Wait for:  10\n",
      "removing:  W+\n",
      "Values inside:  6\n",
      "particle: gamma Will transform in:   New particles: \n",
      "removing:  gamma\n",
      "Values inside:  5\n",
      "particle: gamma Will transform in:   New particles: \n",
      "removing:  gamma\n",
      "Values inside:  4\n",
      "particle: nu_mu Will transform in:   New particles: \n",
      "removing:  nu_mu\n",
      "Values inside:  3\n",
      "particle: nu_mubar Will transform in:   New particles: \n",
      "removing:  nu_mubar\n",
      "Values inside:  2\n",
      "particle: nu_e Will transform in:   New particles: \n",
      "removing:  nu_e\n",
      "Values inside:  1\n",
      "particle: e+ Will transform in:   New particles: \n",
      "removing:  e+\n",
      "Values inside:  0\n"
     ]
    }
   ],
   "source": [
    "phenomena = Phenomena()\n",
    "for i in range(1):\n",
    "    print phenomena.addParticle(\"rho+\", p=2)"
   ]
  },
  {
   "cell_type": "code",
   "execution_count": null,
   "metadata": {},
   "outputs": [],
   "source": []
  },
  {
   "cell_type": "code",
   "execution_count": null,
   "metadata": {},
   "outputs": [],
   "source": []
  }
 ],
 "metadata": {
  "kernelspec": {
   "display_name": "Python 2",
   "language": "python",
   "name": "python2"
  },
  "language_info": {
   "codemirror_mode": {
    "name": "ipython",
    "version": 2
   },
   "file_extension": ".py",
   "mimetype": "text/x-python",
   "name": "python",
   "nbconvert_exporter": "python",
   "pygments_lexer": "ipython2",
   "version": "2.7.15"
  }
 },
 "nbformat": 4,
 "nbformat_minor": 2
}
